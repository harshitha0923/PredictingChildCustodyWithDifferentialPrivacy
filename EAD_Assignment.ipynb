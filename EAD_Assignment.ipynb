{
  "nbformat": 4,
  "nbformat_minor": 0,
  "metadata": {
    "colab": {
      "name": "EAD_Assignment.ipynb",
      "provenance": [],
      "machine_shape": "hm"
    },
    "kernelspec": {
      "name": "python3",
      "display_name": "Python 3"
    },
    "language_info": {
      "name": "python"
    },
    "accelerator": "GPU"
  },
  "cells": [
    {
      "cell_type": "code",
      "metadata": {
        "colab": {
          "base_uri": "https://localhost:8080/"
        },
        "id": "xIhmI64rikml",
        "outputId": "234bc7de-0cec-44c7-f218-4145f77987ed"
      },
      "source": [
        "\"\"\"\n",
        "from google.colab import drive\n",
        "drive.mount(\"/content/drive\", force_remount=True)\n",
        "%cd drive/My Drive/EAD_1\n",
        "\"\"\""
      ],
      "execution_count": 1,
      "outputs": [
        {
          "output_type": "stream",
          "name": "stdout",
          "text": [
            "Mounted at /content/drive\n"
          ]
        }
      ]
    },
    {
      "cell_type": "code",
      "metadata": {
        "id": "G3iMakA6i_YG"
      },
      "source": [
        "#Read Dataset\n",
        "import pandas as pd\n",
        "df=pd.read_csv(r\"EAD_Final_data.csv\")"
      ],
      "execution_count": 55,
      "outputs": []
    },
    {
      "cell_type": "code",
      "metadata": {
        "colab": {
          "base_uri": "https://localhost:8080/",
          "height": 461
        },
        "id": "kenGH7miExi3",
        "outputId": "c0e0c1d7-1ef2-472c-8972-edb266315463"
      },
      "source": [
        "df"
      ],
      "execution_count": 56,
      "outputs": [
        {
          "output_type": "execute_result",
          "data": {
            "text/html": [
              "<div>\n",
              "<style scoped>\n",
              "    .dataframe tbody tr th:only-of-type {\n",
              "        vertical-align: middle;\n",
              "    }\n",
              "\n",
              "    .dataframe tbody tr th {\n",
              "        vertical-align: top;\n",
              "    }\n",
              "\n",
              "    .dataframe thead th {\n",
              "        text-align: right;\n",
              "    }\n",
              "</style>\n",
              "<table border=\"1\" class=\"dataframe\">\n",
              "  <thead>\n",
              "    <tr style=\"text-align: right;\">\n",
              "      <th></th>\n",
              "      <th>Place_of_residence_partner_man</th>\n",
              "      <th>Place_of_birth_partner_man</th>\n",
              "      <th>Age_partner_man</th>\n",
              "      <th>Monthly_income_partner_man_weight</th>\n",
              "      <th>Occupation_partner_man</th>\n",
              "      <th>Place_of_birth_partner_woman</th>\n",
              "      <th>Age_partner_woman</th>\n",
              "      <th>Place_of_residence_partner_woman</th>\n",
              "      <th>Occupation_partner_woman</th>\n",
              "      <th>Monthly_income_partner_woman_weight</th>\n",
              "      <th>Level_of_education_partner_man</th>\n",
              "      <th>Level_of_education_partner_woman</th>\n",
              "      <th>Custody</th>\n",
              "    </tr>\n",
              "  </thead>\n",
              "  <tbody>\n",
              "    <tr>\n",
              "      <th>0</th>\n",
              "      <td>XALAPA-ENRIQUEZ</td>\n",
              "      <td>XALAPA - ENRIQUEZ</td>\n",
              "      <td>25</td>\n",
              "      <td>1000.0</td>\n",
              "      <td>EMPLOYEE</td>\n",
              "      <td>XALAPA-ENRIQUEZ</td>\n",
              "      <td>25</td>\n",
              "      <td>OAXACA</td>\n",
              "      <td>MUSIC TEACHER</td>\n",
              "      <td>43000.0</td>\n",
              "      <td>PROFESSIONAL</td>\n",
              "      <td>PRIMARY</td>\n",
              "      <td>DAD</td>\n",
              "    </tr>\n",
              "    <tr>\n",
              "      <th>1</th>\n",
              "      <td>CHICONTEPEC</td>\n",
              "      <td>SAN RAFAEL</td>\n",
              "      <td>35</td>\n",
              "      <td>900.0</td>\n",
              "      <td>GENERAL DOCTOR</td>\n",
              "      <td>SOLITUDE OF BENDING</td>\n",
              "      <td>42</td>\n",
              "      <td>FLAT</td>\n",
              "      <td>RADIO PRODUCER</td>\n",
              "      <td>13569.0</td>\n",
              "      <td>OTHER</td>\n",
              "      <td>OTHER</td>\n",
              "      <td>OTHER</td>\n",
              "    </tr>\n",
              "    <tr>\n",
              "      <th>2</th>\n",
              "      <td>SAN ROMAN</td>\n",
              "      <td>RAFAEL LUCIO</td>\n",
              "      <td>62</td>\n",
              "      <td>9000.0</td>\n",
              "      <td>CLINICAL CHEMICAL</td>\n",
              "      <td>POISSY</td>\n",
              "      <td>39</td>\n",
              "      <td>VILLA JUANITA</td>\n",
              "      <td>REPORTER</td>\n",
              "      <td>8500.0</td>\n",
              "      <td>PROFESSIONAL</td>\n",
              "      <td>HIGH SCHOOL</td>\n",
              "      <td>DAD</td>\n",
              "    </tr>\n",
              "    <tr>\n",
              "      <th>3</th>\n",
              "      <td>XALAPA-ENRIQUEZ</td>\n",
              "      <td>XALAPA - ENRIQUEZ</td>\n",
              "      <td>28</td>\n",
              "      <td>6000.0</td>\n",
              "      <td>MECHANICAL</td>\n",
              "      <td>XALAPA-ENRIQUEZ</td>\n",
              "      <td>26</td>\n",
              "      <td>XALAPA-ENRIQUEZ</td>\n",
              "      <td>EDUCATOR</td>\n",
              "      <td>7000.0</td>\n",
              "      <td>HIGH SCHOOL</td>\n",
              "      <td>PROFESSIONAL</td>\n",
              "      <td>MOTHER</td>\n",
              "    </tr>\n",
              "    <tr>\n",
              "      <th>4</th>\n",
              "      <td>PUEBLA</td>\n",
              "      <td>PUEBLA</td>\n",
              "      <td>44</td>\n",
              "      <td>20000.0</td>\n",
              "      <td>EMPLOYEE</td>\n",
              "      <td>XALAPA-ENRIQUEZ</td>\n",
              "      <td>41</td>\n",
              "      <td>XALAPA-ENRIQUEZ</td>\n",
              "      <td>HOUSEWIFE</td>\n",
              "      <td>1200.0</td>\n",
              "      <td>PROFESSIONAL</td>\n",
              "      <td>PREPARATORY</td>\n",
              "      <td>MOTHER</td>\n",
              "    </tr>\n",
              "    <tr>\n",
              "      <th>...</th>\n",
              "      <td>...</td>\n",
              "      <td>...</td>\n",
              "      <td>...</td>\n",
              "      <td>...</td>\n",
              "      <td>...</td>\n",
              "      <td>...</td>\n",
              "      <td>...</td>\n",
              "      <td>...</td>\n",
              "      <td>...</td>\n",
              "      <td>...</td>\n",
              "      <td>...</td>\n",
              "      <td>...</td>\n",
              "      <td>...</td>\n",
              "    </tr>\n",
              "    <tr>\n",
              "      <th>7918</th>\n",
              "      <td>XALAPA-ENRIQUEZ</td>\n",
              "      <td>TAMPICO</td>\n",
              "      <td>52</td>\n",
              "      <td>12000.0</td>\n",
              "      <td>EMPLOYEE</td>\n",
              "      <td>TEPEJIL DEL RIO</td>\n",
              "      <td>45</td>\n",
              "      <td>XALAPA-ENRIQUEZ</td>\n",
              "      <td>BUSINESSMAN</td>\n",
              "      <td>20000.0</td>\n",
              "      <td>PRIMARY</td>\n",
              "      <td>PREPARATORY</td>\n",
              "      <td>MOTHER</td>\n",
              "    </tr>\n",
              "    <tr>\n",
              "      <th>7919</th>\n",
              "      <td>INDEPENDENCE</td>\n",
              "      <td>RINCONADA</td>\n",
              "      <td>68</td>\n",
              "      <td>10280.0</td>\n",
              "      <td>SIGNWRITER</td>\n",
              "      <td>ACAPULCO</td>\n",
              "      <td>77</td>\n",
              "      <td>OAXACA</td>\n",
              "      <td>LABORATORY</td>\n",
              "      <td>3300.0</td>\n",
              "      <td>PROFESSIONAL</td>\n",
              "      <td>PROFESSIONAL</td>\n",
              "      <td>MOTHER</td>\n",
              "    </tr>\n",
              "    <tr>\n",
              "      <th>7920</th>\n",
              "      <td>XALAPA-ENRIQUEZ</td>\n",
              "      <td>WORKER</td>\n",
              "      <td>28</td>\n",
              "      <td>8700.0</td>\n",
              "      <td>CHEMICAL</td>\n",
              "      <td>XALAPA-ENRIQUEZ</td>\n",
              "      <td>25</td>\n",
              "      <td>XALAPA-ENRIQUEZ</td>\n",
              "      <td>LIC. BUSINESS ADMINISTRATION</td>\n",
              "      <td>1070.0</td>\n",
              "      <td>PRIMARY</td>\n",
              "      <td>PROFESSIONAL</td>\n",
              "      <td>MOTHER</td>\n",
              "    </tr>\n",
              "    <tr>\n",
              "      <th>7921</th>\n",
              "      <td>XALAPA-ENRIQUEZ</td>\n",
              "      <td>FRANCISCO SARABIA</td>\n",
              "      <td>47</td>\n",
              "      <td>3545.0</td>\n",
              "      <td>EMPLOYEE</td>\n",
              "      <td>XALAPA-ENRIQUEZ</td>\n",
              "      <td>34</td>\n",
              "      <td>XALAPA-ENRIQUEZ</td>\n",
              "      <td>HOUSEWIFE</td>\n",
              "      <td>3900.0</td>\n",
              "      <td>PREPARATORY</td>\n",
              "      <td>HIGH SCHOOL</td>\n",
              "      <td>MOTHER</td>\n",
              "    </tr>\n",
              "    <tr>\n",
              "      <th>7922</th>\n",
              "      <td>XALAPA-ENRIQUEZ</td>\n",
              "      <td>XALAPA - ENRIQUEZ</td>\n",
              "      <td>39</td>\n",
              "      <td>3000.0</td>\n",
              "      <td>DRIVER</td>\n",
              "      <td>XALAPA-ENRIQUEZ</td>\n",
              "      <td>29</td>\n",
              "      <td>XALAPA-ENRIQUEZ</td>\n",
              "      <td>STUDENT</td>\n",
              "      <td>4000.0</td>\n",
              "      <td>PROFESSIONAL</td>\n",
              "      <td>PREPARATORY</td>\n",
              "      <td>MOTHER</td>\n",
              "    </tr>\n",
              "  </tbody>\n",
              "</table>\n",
              "<p>7923 rows × 13 columns</p>\n",
              "</div>"
            ],
            "text/plain": [
              "     Place_of_residence_partner_man  ... Custody\n",
              "0                   XALAPA-ENRIQUEZ  ...     DAD\n",
              "1                       CHICONTEPEC  ...   OTHER\n",
              "2                         SAN ROMAN  ...     DAD\n",
              "3                   XALAPA-ENRIQUEZ  ...  MOTHER\n",
              "4                            PUEBLA  ...  MOTHER\n",
              "...                             ...  ...     ...\n",
              "7918                XALAPA-ENRIQUEZ  ...  MOTHER\n",
              "7919                   INDEPENDENCE  ...  MOTHER\n",
              "7920                XALAPA-ENRIQUEZ  ...  MOTHER\n",
              "7921                XALAPA-ENRIQUEZ  ...  MOTHER\n",
              "7922                XALAPA-ENRIQUEZ  ...  MOTHER\n",
              "\n",
              "[7923 rows x 13 columns]"
            ]
          },
          "metadata": {},
          "execution_count": 56
        }
      ]
    },
    {
      "cell_type": "code",
      "metadata": {
        "id": "Pw5KWPZGvcJo"
      },
      "source": [
        "#Encoding the Training Data\n",
        "df[\"Place_of_birth_partner_man\"] = df[\"Place_of_birth_partner_man\"].astype('category')\n",
        "df[\"Place_of_birth_partner_man_cat\"] = df[\"Place_of_birth_partner_man\"].cat.codes\n",
        "df[\"Place_of_birth_partner_woman\"] = df[\"Place_of_birth_partner_woman\"].astype('category')\n",
        "df[\"Place_of_birth_partner_woman_cat\"] = df[\"Place_of_birth_partner_woman\"].cat.codes\n",
        "df['Place_of_residence_partner_man']=df['Place_of_residence_partner_man'].astype('category')\n",
        "df['Place_of_residence_partner_man_cat']=df['Place_of_residence_partner_man'].cat.codes\n",
        "df['Place_of_residence_partner_woman']=df['Place_of_residence_partner_man'].astype('category')\n",
        "df['Place_of_residence_partner_woman_cat']=df['Place_of_residence_partner_man'].cat.codes\n",
        "df['Occupation_partner_man']=df['Occupation_partner_man'].astype('category')\n",
        "df['Occupation_partner_man_cat']=df['Occupation_partner_man'].cat.codes\n",
        "df['Occupation_partner_woman']=df['Occupation_partner_woman'].astype('category')\n",
        "df['Occupation_partner_woman_cat']=df['Occupation_partner_woman'].cat.codes\n",
        "df['Level_of_education_partner_man']=df['Level_of_education_partner_man'].astype('category')\n",
        "df['Level_of_education_partner_man_cat']=df['Level_of_education_partner_man'].cat.codes\n",
        "df['Level_of_education_partner_woman']=df['Level_of_education_partner_woman'].astype('category')\n",
        "df['Level_of_education_partner_woman_cat']=df['Level_of_education_partner_woman'].cat.codes\n",
        "df['Custody']=df['Custody'].astype('category')\n",
        "df['Custody_cat']=df['Custody'].cat.codes"
      ],
      "execution_count": 6,
      "outputs": []
    },
    {
      "cell_type": "code",
      "metadata": {
        "id": "q67Rp4Zrjh50"
      },
      "source": [
        "#Splitting the Dataset\n",
        "X=df[['Place_of_birth_partner_man_cat',\n",
        "       'Place_of_birth_partner_woman_cat',\n",
        "       'Place_of_residence_partner_man_cat',\n",
        "       'Place_of_residence_partner_woman_cat', 'Occupation_partner_man_cat',\n",
        "       'Occupation_partner_woman_cat', 'Level_of_education_partner_man_cat',\n",
        "       'Level_of_education_partner_woman_cat','Age_partner_woman','Age_partner_man']]\n",
        "y=df[\"Custody_cat\"]\n",
        "from sklearn.model_selection import train_test_split\n",
        "X_train, X_test, y_train, y_test = train_test_split(X, y, test_size=0.3,random_state=7)"
      ],
      "execution_count": 10,
      "outputs": []
    },
    {
      "cell_type": "code",
      "metadata": {
        "id": "gYwjle-0lsOS"
      },
      "source": [
        "#Divide the Data into Data for Teachers and Students\n",
        "student_data=X_test\n",
        "student_data_y=y_test\n",
        "teacher_data=X_train\n",
        "teacher_data_y=y_train"
      ],
      "execution_count": 12,
      "outputs": []
    },
    {
      "cell_type": "code",
      "metadata": {
        "id": "hHGZoqE9llbi"
      },
      "source": [
        "#Partitioning the Dataset into 6 partition Teachers\n",
        "dataframes_teacher={}\n",
        "dataframes_teacher_y={}\n",
        "chunk = 924\n",
        "def divide_chunks(df,chunk,dfs):\n",
        "  for n in range((df.shape[0] // chunk + 1)):\n",
        "      df_temp = df.iloc[n*chunk:(n+1)*chunk]\n",
        "      df_temp = df_temp.reset_index(drop=True)\n",
        "      dfs[n] = df_temp\n",
        "divide_chunks(teacher_data,chunk,dataframes_teacher)\n",
        "divide_chunks(teacher_data_y,chunk,dataframes_teacher_y)\n",
        "def append_last(dfs):\n",
        "  dfs[len(dfs)-2]=dfs[len(dfs)-2].append(dfs[len(dfs)-1])\n",
        "  del dfs[len(dfs)-1]\n",
        "append_last(dataframes_teacher)\n",
        "append_last(dataframes_teacher_y)"
      ],
      "execution_count": 16,
      "outputs": []
    },
    {
      "cell_type": "code",
      "metadata": {
        "colab": {
          "base_uri": "https://localhost:8080/"
        },
        "id": "hcFqvCXJmsvI",
        "outputId": "d26ed9f4-82ee-4fb7-8297-3562e670e8ae"
      },
      "source": [
        "#Training the 6 Teachers with the Poly Kernel\n",
        "from sklearn import svm\n",
        "clf0 = svm.SVC(kernel='poly')\n",
        "clf0.fit(dataframes_teacher[0].values,dataframes_teacher_y[0])\n",
        "clf1 = svm.SVC(kernel='poly')\n",
        "clf1.fit(dataframes_teacher[1].values,dataframes_teacher_y[1])\n",
        "clf2 = svm.SVC(kernel='poly')\n",
        "clf2.fit(dataframes_teacher[2].values,dataframes_teacher_y[2])\n",
        "clf3 = svm.SVC(kernel='poly') \n",
        "clf3.fit(dataframes_teacher[3].values,dataframes_teacher_y[3])\n",
        "clf4 = svm.SVC(kernel='poly') \n",
        "clf4.fit(dataframes_teacher[4].values,dataframes_teacher_y[4])\n",
        "clf5 = svm.SVC(kernel='poly') \n",
        "clf5.fit(dataframes_teacher[5].values,dataframes_teacher_y[5])"
      ],
      "execution_count": 18,
      "outputs": [
        {
          "output_type": "execute_result",
          "data": {
            "text/plain": [
              "SVC(kernel='poly')"
            ]
          },
          "metadata": {},
          "execution_count": 18
        }
      ]
    },
    {
      "cell_type": "code",
      "metadata": {
        "id": "G1pdVfg_n4Q-"
      },
      "source": [
        "#Taking Predictions from 6 Teachers for Student Data\n",
        "df_inp=student_data\n",
        "t=[]\n",
        "for i in range(len(df_inp)):\n",
        "  l=[]\n",
        "  l.append(clf0.predict([df_inp.iloc[i]])[0])\n",
        "  l.append(clf2.predict([df_inp.iloc[i]])[0])\n",
        "  l.append(clf1.predict([df_inp.iloc[i]])[0])\n",
        "  l.append(clf3.predict([df_inp.iloc[i]])[0])\n",
        "  l.append(clf4.predict([df_inp.iloc[i]])[0])\n",
        "  l.append(clf5.predict([df_inp.iloc[i]])[0])\n",
        "  t.append(l)"
      ],
      "execution_count": 20,
      "outputs": []
    },
    {
      "cell_type": "code",
      "metadata": {
        "colab": {
          "base_uri": "https://localhost:8080/"
        },
        "id": "hfq9jMGX6Ejo",
        "outputId": "3f07e39c-8bab-4384-d88c-22ec7ddb0c46"
      },
      "source": [
        "#Finding the Aggregate Noisy Max of the predicted labels\n",
        "def score(data, option):\n",
        "    x = pd.Series(data)\n",
        "    return x.value_counts()[option]/1000\n",
        "import numpy as np\n",
        "def report_noisy_max(x, R, u, sensitivity, epsilon):\n",
        "    scores = [u(x, r) for r in R]\n",
        "    noisy_scores = [np.exp(epsilon * score / (2 * sensitivity)) for score in scores]\n",
        "    max_idx = np.argmax(noisy_scores)\n",
        "    return R[max_idx]\n",
        "r = [report_noisy_max(t[i],list(set(t[i])), score, 1, 1) for i in range(len(t))]\n",
        "pd.Series(r).value_counts()"
      ],
      "execution_count": 22,
      "outputs": [
        {
          "output_type": "execute_result",
          "data": {
            "text/plain": [
              "1    1601\n",
              "2     627\n",
              "0     148\n",
              "dtype: int64"
            ]
          },
          "metadata": {},
          "execution_count": 22
        }
      ]
    },
    {
      "cell_type": "code",
      "metadata": {
        "colab": {
          "base_uri": "https://localhost:8080/"
        },
        "id": "VBQCP9W06e8d",
        "outputId": "707df46e-de22-424c-b397-b68dece188bc"
      },
      "source": [
        "student_data_y.value_counts()"
      ],
      "execution_count": 23,
      "outputs": [
        {
          "output_type": "execute_result",
          "data": {
            "text/plain": [
              "1    1101\n",
              "0     642\n",
              "2     633\n",
              "Name: Custody_cat, dtype: int64"
            ]
          },
          "metadata": {},
          "execution_count": 23
        }
      ]
    },
    {
      "cell_type": "code",
      "metadata": {
        "id": "VHcu3CHzGqkg"
      },
      "source": [
        "#Training the Student with no Differential Privacy\n",
        "X_nodp=student_data[['Place_of_birth_partner_man_cat',\n",
        "       'Place_of_birth_partner_woman_cat',\n",
        "       'Place_of_residence_partner_man_cat',\n",
        "       'Place_of_residence_partner_woman_cat', 'Occupation_partner_man_cat',\n",
        "       'Occupation_partner_woman_cat', 'Level_of_education_partner_man_cat',\n",
        "       'Level_of_education_partner_woman_cat','Age_partner_woman','Age_partner_man']]\n",
        "y_nodp=student_data_y"
      ],
      "execution_count": 40,
      "outputs": []
    },
    {
      "cell_type": "code",
      "metadata": {
        "id": "a-M0MbKQM5ae"
      },
      "source": [
        "#Splitting the Student Data without Differential Privacy\n",
        "from sklearn.model_selection import train_test_split\n",
        "X_train, X_test, y_train, y_test = train_test_split(X_dp, y_dp, test_size=0.3,random_state=7)"
      ],
      "execution_count": 41,
      "outputs": []
    },
    {
      "cell_type": "code",
      "metadata": {
        "colab": {
          "base_uri": "https://localhost:8080/"
        },
        "id": "T-nCVqTBJIZX",
        "outputId": "744e0033-010b-482c-9af8-08eaec87a706"
      },
      "source": [
        "#Training SVM with linear kernel without Differential Privacy\n",
        "%%time\n",
        "from sklearn import svm\n",
        "clf = svm.SVC(kernel='linear')\n",
        "clf.fit(X_train, y_train)\n",
        "y_pred = clf.predict(X_test)"
      ],
      "execution_count": 42,
      "outputs": [
        {
          "output_type": "stream",
          "name": "stdout",
          "text": [
            "CPU times: user 7min 18s, sys: 341 ms, total: 7min 19s\n",
            "Wall time: 7min 17s\n"
          ]
        }
      ]
    },
    {
      "cell_type": "code",
      "metadata": {
        "colab": {
          "base_uri": "https://localhost:8080/"
        },
        "id": "NtR_3j8OKpLT",
        "outputId": "74efef51-7f72-49de-92dd-a3ce47e2d2b8"
      },
      "source": [
        "#Getting Accuracy of the Model without Differential Privacy\n",
        "from sklearn import metrics\n",
        "from sklearn.metrics import precision_recall_fscore_support\n",
        "print(precision_recall_fscore_support(y_test, y_pred, average='macro'))\n",
        "print(\"Accuracy:\",metrics.accuracy_score(y_test, y_pred))"
      ],
      "execution_count": 44,
      "outputs": [
        {
          "output_type": "stream",
          "name": "stdout",
          "text": [
            "(0.3810949955177094, 0.37461788655265194, 0.34884312229849995, None)\n",
            "Accuracy: 0.47124824684431976\n"
          ]
        }
      ]
    },
    {
      "cell_type": "code",
      "metadata": {
        "colab": {
          "base_uri": "https://localhost:8080/"
        },
        "id": "snipGVMbLy87",
        "outputId": "9012cf91-2e1e-41e4-ec34-715f0c23bc9c"
      },
      "source": [
        "#Getting Confusion Matrix of the Model without Differential Privacy\n",
        "print(\"Confusion Matrix\\n\",metrics.confusion_matrix(y_test, y_pred))"
      ],
      "execution_count": 45,
      "outputs": [
        {
          "output_type": "stream",
          "name": "stdout",
          "text": [
            "Confusion Matrix\n",
            " [[ 33 119  29]\n",
            " [ 28 280  33]\n",
            " [ 34 134  23]]\n"
          ]
        }
      ]
    },
    {
      "cell_type": "code",
      "metadata": {
        "id": "MtmBQ3bDRGe-"
      },
      "source": [
        "sy_test=y_test"
      ],
      "execution_count": 46,
      "outputs": []
    },
    {
      "cell_type": "code",
      "metadata": {
        "id": "aEzDv2F3JRzO"
      },
      "source": [
        "#Splitting Student Data with Differential Privacy\n",
        "from sklearn.model_selection import train_test_split\n",
        "X_dp=student_data[['Place_of_birth_partner_man_cat',\n",
        "       'Place_of_birth_partner_woman_cat',\n",
        "       'Place_of_residence_partner_man_cat',\n",
        "       'Place_of_residence_partner_woman_cat', 'Occupation_partner_man_cat',\n",
        "       'Occupation_partner_woman_cat', 'Level_of_education_partner_man_cat',\n",
        "       'Level_of_education_partner_woman_cat','Age_partner_woman','Age_partner_man']]\n",
        "y_dp=r\n",
        "X_train, X_test, y_train, y_test = train_test_split(X_dp, y_dp, test_size=0.3,random_state=7)"
      ],
      "execution_count": 47,
      "outputs": []
    },
    {
      "cell_type": "code",
      "metadata": {
        "colab": {
          "base_uri": "https://localhost:8080/"
        },
        "id": "A0f3b0hkInKS",
        "outputId": "2bbdad7a-cfd8-4b34-853b-8a13d641476e"
      },
      "source": [
        "#Training SVM with linear kernel without Differential Privacy\n",
        "%%time\n",
        "from sklearn import svm\n",
        "clf = svm.SVC(kernel='linear')\n",
        "clf.fit(X_train, y_train)\n",
        "y_pred = clf.predict(X_test)"
      ],
      "execution_count": 49,
      "outputs": [
        {
          "output_type": "stream",
          "name": "stdout",
          "text": [
            "CPU times: user 47.6 s, sys: 44.9 ms, total: 47.6 s\n",
            "Wall time: 47.4 s\n"
          ]
        }
      ]
    },
    {
      "cell_type": "code",
      "metadata": {
        "colab": {
          "base_uri": "https://localhost:8080/"
        },
        "id": "gtUvhaHEI2Jj",
        "outputId": "8d0c2528-1061-4a9a-8eed-312cd27011b0"
      },
      "source": [
        "#Getting Accuracy of the Model without Differential Privacy\n",
        "from sklearn import metrics\n",
        "print(precision_recall_fscore_support(y_test, y_pred, average='macro'))\n",
        "print(\"Accuracy:\",metrics.accuracy_score(sy_test, y_pred))"
      ],
      "execution_count": 53,
      "outputs": [
        {
          "output_type": "stream",
          "name": "stdout",
          "text": [
            "(0.6904970329775861, 0.6486965987805116, 0.6645256100720559, None)\n",
            "Accuracy: 0.4838709677419355\n"
          ]
        }
      ]
    },
    {
      "cell_type": "code",
      "metadata": {
        "colab": {
          "base_uri": "https://localhost:8080/"
        },
        "id": "VI2FN0tWMsQg",
        "outputId": "6b44990a-1f11-4262-8af7-3ce408119cde"
      },
      "source": [
        "#Getting Confusion Matrix of the Model without Differential Privacy\n",
        "print(\"Confusion Matrix\\n\",metrics.confusion_matrix(sy_test, y_pred))"
      ],
      "execution_count": 54,
      "outputs": [
        {
          "output_type": "stream",
          "name": "stdout",
          "text": [
            "Confusion Matrix\n",
            " [[ 10 107  64]\n",
            " [ 10 276  55]\n",
            " [  8 124  59]]\n"
          ]
        }
      ]
    },
    {
      "cell_type": "code",
      "metadata": {
        "colab": {
          "base_uri": "https://localhost:8080/"
        },
        "id": "MPfbPco5RxXn",
        "outputId": "6a970d0d-fe9f-4d84-af39-91a656a601d9"
      },
      "source": [
        "#Saving SVM Model with Differential Privacy \n",
        "import pickle\n",
        "filename = 'SVMFinal.pkl'\n",
        "pickle.dump(clf, open(filename, 'wb'))\n",
        " \n",
        "loaded_model = pickle.load(open(filename, 'rb'))\n",
        "result = loaded_model.score(X_test, sy_test)\n",
        "print(result)"
      ],
      "execution_count": 57,
      "outputs": [
        {
          "output_type": "stream",
          "name": "stdout",
          "text": [
            "0.4838709677419355\n"
          ]
        }
      ]
    },
    {
      "cell_type": "code",
      "metadata": {
        "colab": {
          "base_uri": "https://localhost:8080/"
        },
        "id": "jCHcZMTqO8nE",
        "outputId": "7c869ff0-5a92-4725-ba00-22b1e59dd753"
      },
      "source": [
        "#Predict for a single record\n",
        "loaded_model.predict([[654, 94, 183, 183, 100, 94, 1, 2, 34, 36]])"
      ],
      "execution_count": 64,
      "outputs": [
        {
          "output_type": "stream",
          "name": "stderr",
          "text": [
            "/usr/local/lib/python3.7/dist-packages/sklearn/base.py:446: UserWarning: X does not have valid feature names, but SVC was fitted with feature names\n",
            "  \"X does not have valid feature names, but\"\n"
          ]
        },
        {
          "output_type": "execute_result",
          "data": {
            "text/plain": [
              "array([1], dtype=int8)"
            ]
          },
          "metadata": {},
          "execution_count": 64
        }
      ]
    },
    {
      "cell_type": "code",
      "metadata": {
        "id": "kWfpqzwCPNOB"
      },
      "source": [
        ""
      ],
      "execution_count": null,
      "outputs": []
    }
  ]
}